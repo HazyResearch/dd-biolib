{
 "cells": [
  {
   "cell_type": "markdown",
   "metadata": {},
   "source": [
    "## Disease Entity Tagging: Constructing Labeling Functions"
   ]
  },
  {
   "cell_type": "code",
   "execution_count": 1,
   "metadata": {
    "collapsed": false
   },
   "outputs": [],
   "source": [
    "%load_ext autoreload\n",
    "%autoreload 2\n",
    "\n",
    "import re\n",
    "import os\n",
    "import sys\n",
    "import cPickle\n",
    "import itertools\n",
    "sys.path.insert(1, os.path.join(sys.path[0], '..'))\n",
    "\n",
    "from ddlite import *\n",
    "from datasets import *\n",
    "#from lexicons import AllUpperNounsMatcher,RuleTokenizedDictionaryMatch\n",
    "\n",
    "%matplotlib inline\n",
    "matplotlib.rcParams['figure.figsize'] = (20,6)"
   ]
  },
  {
   "cell_type": "markdown",
   "metadata": {},
   "source": [
    "### 1. Load Precomputed Candidates"
   ]
  },
  {
   "cell_type": "code",
   "execution_count": 2,
   "metadata": {
    "collapsed": false
   },
   "outputs": [],
   "source": [
    "candidates = Entities(\"examples/cache/pmc-disease-candidates-5000.pkl\")"
   ]
  },
  {
   "cell_type": "code",
   "execution_count": 22,
   "metadata": {
    "collapsed": false
   },
   "outputs": [
    {
     "name": "stdout",
     "output_type": "stream",
     "text": [
      "Extracted 1481583 features for each of 96870 mentions\n"
     ]
    }
   ],
   "source": [
    "model = CandidateModel(candidates)\n",
    "msg = \"Extracted {} features for each of {} mentions\"\n",
    "print msg.format(model.num_feats(), model.num_candidates())"
   ]
  },
  {
   "cell_type": "code",
   "execution_count": 23,
   "metadata": {
    "collapsed": false
   },
   "outputs": [
    {
     "name": "stdout",
     "output_type": "stream",
     "text": [
      "Making sure MindTagger is installed. Hang on!\n"
     ]
    },
    {
     "data": {
      "text/html": [
       "\n",
       "        <iframe\n",
       "            width=\"100%\"\n",
       "            height=\"1200\"\n",
       "            src=\"http://DN0a230426.SUNet:8900/#/mindtagger/b0140339459fe765\"\n",
       "            frameborder=\"0\"\n",
       "            allowfullscreen\n",
       "        ></iframe>\n",
       "        "
      ],
      "text/plain": [
       "<IPython.lib.display.IFrame at 0x105b3ee50>"
      ]
     },
     "execution_count": 23,
     "metadata": {},
     "output_type": "execute_result"
    }
   ],
   "source": [
    "model.open_mindtagger(num_sample=1000, width='100%', height=1200)"
   ]
  },
  {
   "cell_type": "code",
   "execution_count": 45,
   "metadata": {
    "collapsed": false
   },
   "outputs": [],
   "source": [
    "model.add_mindtagger_tags()\n",
    "gold_labels = np.load(open(\"mindtagger_labels\",\"rb\"))\n",
    "model.set_gold_labels(gold_labels)\n",
    "model.set_holdout()"
   ]
  },
  {
   "cell_type": "code",
   "execution_count": 25,
   "metadata": {
    "collapsed": false
   },
   "outputs": [],
   "source": [
    "dictfile = \"/Users/fries/Desktop/disease_or_syndrome.txt\"\n",
    "diseases = {line.strip().split(\"\\t\")[0]:1 for line in codecs.open(dictfile,\"rU\",\"utf-8\").readlines()}\n",
    "\n",
    "# remove stopwords\n",
    "dictfile = \"datasets/dictionaries/chemdner/stopwords.txt\"\n",
    "stopwords = [line.strip().split(\"\\t\")[0] for line in open(dictfile).readlines()]\n",
    "diseases = {word:1 for word in diseases if word not in stopwords}"
   ]
  },
  {
   "cell_type": "code",
   "execution_count": 35,
   "metadata": {
    "collapsed": false
   },
   "outputs": [],
   "source": [
    "measure_words = dict.fromkeys([\"mg\",\"ml\",\"mm\",\"cm\",\"grams\"])\n",
    "kw = set(['high-grade', 'acute','progression', 'incidence', 'prevalence', 'diagnosis'])\n",
    "vague = set([\"disease\",\"disorder\",\"infection\",\"defect\",\"condition\",\"syndrome\"])\n",
    "\n",
    "TRUE,FALSE,ABSTAIN = 1,-1,0\n",
    "\n",
    "def post_window(m, n=3, match_attrib='lemmas'):\n",
    "    s = list(m.idxs)\n",
    "    b = len(m.lemmas) - np.max(s)\n",
    "    s.extend([np.max(s) + i for i in range(1, min(b,n+1))])\n",
    "    #return [m.__dict__[match_attrib][i] for i in s]\n",
    "    return [m.lemmas[i] for i in s]\n",
    "\n",
    "def pre_window(m, n=3, match_attrib='lemmas'):\n",
    "    s = list(m.idxs)\n",
    "    b = np.min(s)\n",
    "    s.extend([b - i for i in range(1, min(b,n+1))])\n",
    "    #return [m.__dict__[match_attrib][i] for i in s]\n",
    "    return [m.lemmas[i] for i in s]\n",
    "\n",
    "def contains(m, word):\n",
    "    return word in [m.lemmas[i] for i in m.idxs]\n",
    "\n",
    "\n",
    "#def LF_treats(m):\n",
    "#    return 1 if 'treats' in [m.lemmas[m.dep_parents[i] - 1] for i in m.idxs] else 0\n",
    "\n",
    "#def LF_causes(m):\n",
    "#    return 1 if 'causes' in [m.lemmas[m.dep_parents[i] - 1] for i in m.idxs] else 0\n",
    "\n",
    "\n",
    "#\n",
    "# High-precision / Low-conflict Rules\n",
    "#\n",
    "def LF_in_list(m):\n",
    "    '''Candidate co-occurs with several other candidates in parent sentence'''\n",
    "    n = 0\n",
    "    idxs = list(m.idxs)\n",
    "    words = [m.words[i] for i in idxs]\n",
    "    for i in range(0,len(words)):\n",
    "        for j in range(i+1,len(words)):\n",
    "            phrase = \" \".join(words[i:j+1])\n",
    "            if phrase in diseases:\n",
    "                n +=1\n",
    "    return TRUE if n > 2 else ABSTAIN\n",
    "\n",
    "def LF_measurement(m):\n",
    "    '''Unit of measurement, e.g., 10 gm, 1.2 cm, etc.'''\n",
    "    mention = \" \".join([m.words[i] for i in m.idxs])\n",
    "    if mention.lower() in measure_words:\n",
    "        if sum([1 if re.search(\"\\d+[.]*\\d*\",word) else 0 for word in pre_window(m,3)]) > 0:\n",
    "            return FALSE \n",
    "    return ABSTAIN\n",
    "\n",
    "def LF_long_phrase(m):\n",
    "    '''Longer dictionary matches correlate with higher confidence in matches'''\n",
    "    return TRUE if len(list(m.idxs)) > 2 else ABSTAIN\n",
    "\n",
    "def LF_short_phrase(m):\n",
    "    '''Short matches (1-2 characters) are usually wrong'''\n",
    "    phrase = \" \".join([m.lemmas[i] for i in m.idxs])\n",
    "    return FALSE if len(phrase) <= 2 else ABSTAIN\n",
    "\n",
    "# terminology-specific features\n",
    "def LF_keyword_context_match(m):\n",
    "    return TRUE if kw.intersection(post_window(m)) or kw.intersection(pre_window(m)) else ABSTAIN\n",
    "\n",
    "def LF_too_vague(m):\n",
    "    phrase = \" \".join([m.lemmas[i] for i in m.idxs])\n",
    "    return FALSE if phrase in vague else ABSTAIN\n",
    "\n",
    "def LF_its_cancer(m):\n",
    "    phrase = \" \".join([m.lemmas[i] for i in m.idxs])\n",
    "    return TRUE if \"cancer\" in phrase else ABSTAIN\n",
    "\n",
    "def LF_et_al(m):\n",
    "    '''Deal with \"et al\" matches'''\n",
    "    return FALSE if 'et' in pre_window(m,1) else ABSTAIN \n",
    "\n",
    "def LF_noun_phrases(m):\n",
    "    '''Noun phrase of form JJ|NN[P]* and at least 2 tokens'''\n",
    "    pos_tags = [m.poses[i] for i in m.idxs]\n",
    "    w = sum([1 if re.search(\"^(NN[P]*|JJ)$\",tag) else 0 for tag in pos_tags])\n",
    "    return TRUE if w==len(m.idxs) and len(m.idxs) > 1 else ABSTAIN\n",
    "\n",
    "#\n",
    "# Low-precision / High-coverage\n",
    "#"
   ]
  },
  {
   "cell_type": "code",
   "execution_count": 47,
   "metadata": {
    "collapsed": false
   },
   "outputs": [],
   "source": [
    "LFs = [LF_in_list,LF_keyword_context_match,LF_long_phrase,LF_et_al,LF_measurement,\n",
    "       LF_noun_phrases,LF_its_cancer,LF_too_vague,LF_short_phrase]\n",
    "model.apply_lfs(LFs, clear=True)"
   ]
  },
  {
   "cell_type": "code",
   "execution_count": 48,
   "metadata": {
    "collapsed": false
   },
   "outputs": [
    {
     "data": {
      "image/png": "[encoded data removed]",
      "text/plain": [
       "<matplotlib.figure.Figure at 0x151d77ad0>"
      ]
     },
     "metadata": {},
     "output_type": "display_data"
    }
   ],
   "source": [
    "model.plot_lf_stats()"
   ]
  },
  {
   "cell_type": "code",
   "execution_count": 49,
   "metadata": {
    "collapsed": true
   },
   "outputs": [],
   "source": [
    "labels = model.get_ground_truth()\n",
    "np.save(open(\"mindtagger_labels\",\"w\"),labels)"
   ]
  },
  {
   "cell_type": "code",
   "execution_count": 50,
   "metadata": {
    "collapsed": false
   },
   "outputs": [
    {
     "data": {
      "text/html": [
       "<table><tr><td><b>Labeling function</b></td><td><b>Fraction of candidates where LF has conflict</b></td></tr><tr><td>LF_keyword_context_match</td><td>0.003</td></tr><tr><td>LF_short_phrase</td><td>0.002</td></tr><tr><td>LF_too_vague</td><td>0.002</td></tr><tr><td>LF_measurement</td><td>0.000</td></tr><tr><td>LF_et_al</td><td>0.000</td></tr><tr><td>LF_in_list</td><td>0.000</td></tr><tr><td>LF_noun_phrases</td><td>0.000</td></tr><tr><td>LF_long_phrase</td><td>0.000</td></tr><tr><td>LF_its_cancer</td><td>0.000</td></tr></table>"
      ],
      "text/plain": [
       "OrderedDict([('LF_keyword_context_match', 0.0031175802622070816),\n",
       "             ('LF_short_phrase', 0.001600082584907608),\n",
       "             ('LF_too_vague', 0.0015174976772994735),\n",
       "             ('LF_measurement', 2.0646226902033653e-05),\n",
       "             ('LF_et_al', 2.0646226902033653e-05),\n",
       "             ('LF_in_list', 0.0),\n",
       "             ('LF_noun_phrases', 0.0),\n",
       "             ('LF_long_phrase', 0.0),\n",
       "             ('LF_its_cancer', 0.0)])"
      ]
     },
     "execution_count": 50,
     "metadata": {},
     "output_type": "execute_result"
    }
   ],
   "source": [
    "model.top_conflict_lfs(n=10)"
   ]
  },
  {
   "cell_type": "code",
   "execution_count": 51,
   "metadata": {
    "collapsed": false
   },
   "outputs": [
    {
     "data": {
      "text/html": [
       "<table><tr><td><b>Labeling function</b></td><td><b>Fraction of abstained votes</b></td></tr><tr><td>LF_in_list</td><td>0.998</td></tr><tr><td>LF_measurement</td><td>0.986</td></tr><tr><td>LF_its_cancer</td><td>0.978</td></tr><tr><td>LF_et_al</td><td>0.971</td></tr><tr><td>LF_keyword_context_match</td><td>0.970</td></tr><tr><td>LF_long_phrase</td><td>0.960</td></tr><tr><td>LF_too_vague</td><td>0.950</td></tr><tr><td>LF_noun_phrases</td><td>0.834</td></tr><tr><td>LF_short_phrase</td><td>0.762</td></tr></table>"
      ],
      "text/plain": [
       "OrderedDict([('LF_in_list', 0.9979869928770517),\n",
       "             ('LF_measurement', 0.9857644265510478),\n",
       "             ('LF_its_cancer', 0.9781769381645504),\n",
       "             ('LF_et_al', 0.9705275110973469),\n",
       "             ('LF_keyword_context_match', 0.9695674615464024),\n",
       "             ('LF_long_phrase', 0.960132135852173),\n",
       "             ('LF_too_vague', 0.9500154846701765),\n",
       "             ('LF_noun_phrases', 0.8336430267368639),\n",
       "             ('LF_short_phrase', 0.7620006193868071)])"
      ]
     },
     "execution_count": 51,
     "metadata": {},
     "output_type": "execute_result"
    }
   ],
   "source": [
    "model.lowest_coverage_lfs(n=10)"
   ]
  },
  {
   "cell_type": "code",
   "execution_count": 52,
   "metadata": {
    "collapsed": false
   },
   "outputs": [
    {
     "data": {
      "text/html": [
       "<table><tr><td><b>Labeling function</b></td><td><b>Empirical LF accuracy</b></td></tr><tr><td>LF_keyword_context_match</td><td>0.750 (n=20)</td></tr><tr><td>LF_noun_phrases</td><td>0.865 (n=74)</td></tr><tr><td>LF_too_vague</td><td>0.913 (n=23)</td></tr><tr><td>LF_short_phrase</td><td>0.937 (n=95)</td></tr><tr><td>LF_long_phrase</td><td>0.960 (n=25)</td></tr><tr><td>LF_in_list</td><td>1.000 (n=2)</td></tr><tr><td>LF_measurement</td><td>1.000 (n=8)</td></tr><tr><td>LF_et_al</td><td>1.000 (n=11)</td></tr><tr><td>LF_its_cancer</td><td>1.000 (n=10)</td></tr></table>"
      ],
      "text/plain": [
       "OrderedDict([('LF_keyword_context_match', '0.750 (n=20)'),\n",
       "             ('LF_noun_phrases', '0.865 (n=74)'),\n",
       "             ('LF_too_vague', '0.913 (n=23)'),\n",
       "             ('LF_short_phrase', '0.937 (n=95)'),\n",
       "             ('LF_long_phrase', '0.960 (n=25)'),\n",
       "             ('LF_in_list', '1.000 (n=2)'),\n",
       "             ('LF_measurement', '1.000 (n=8)'),\n",
       "             ('LF_et_al', '1.000 (n=11)'),\n",
       "             ('LF_its_cancer', '1.000 (n=10)')])"
      ]
     },
     "execution_count": 52,
     "metadata": {},
     "output_type": "execute_result"
    }
   ],
   "source": [
    "model.lowest_empirical_accuracy_lfs(n=10)"
   ]
  },
  {
   "cell_type": "code",
   "execution_count": 53,
   "metadata": {
    "collapsed": false
   },
   "outputs": [
    {
     "name": "stdout",
     "output_type": "stream",
     "text": [
      "Learning epoch =  0\t100\t200\t300\t400\t\n",
      "CPU times: user 1min 38s, sys: 20.4 s, total: 1min 59s\n",
      "Wall time: 1min 59s\n"
     ]
    },
    {
     "data": {
      "text/html": [
       "<table><tr><td><b>ID</b></td><td><b># LFs</b></td><td><b># ground truth</b></td><td><b>Precision</b></td><td><b>Recall</b></td><td><b>F1</b></td></tr><tr><td>1</td><td>9</td><td>458</td><td>0.860</td><td>0.909</td><td>0.884</td></tr></table><table><tr><td><b>LF</b></td></tr><tr><td>LF_in_list</td></tr><tr><td>LF_keyword_context_match</td></tr><tr><td>LF_long_phrase</td></tr><tr><td>LF_et_al</td></tr><tr><td>LF_measurement</td></tr><tr><td>LF_noun_phrases</td></tr><tr><td>LF_its_cancer</td></tr><tr><td>LF_too_vague</td></tr><tr><td>LF_short_phrase</td></tr></table>"
      ],
      "text/plain": [
       "<ddlite.ddlite.ModelLog instance at 0x15486e4d0>"
      ]
     },
     "execution_count": 53,
     "metadata": {},
     "output_type": "execute_result"
    }
   ],
   "source": [
    "matplotlib.rcParams['figure.figsize'] = (12,4)\n",
    "%time model.learn_weights(sample=False, maxIter=500, mu=5e-4, alpha=0.5, verbose=True, plot=True, log=True)"
   ]
  },
  {
   "cell_type": "code",
   "execution_count": 54,
   "metadata": {
    "collapsed": false
   },
   "outputs": [
    {
     "data": {
      "text/html": [
       "<table><tr><td><b>ID</b></td><td><b># LFs</b></td><td><b># ground truth</b></td><td><b>Precision</b></td><td><b>Recall</b></td><td><b>F1</b></td></tr><tr><td>0</td><td>9</td><td>415</td><td>0.871</td><td>0.902</td><td>0.886</td></tr><tr><td>1</td><td>9</td><td>458</td><td>0.860</td><td>0.909</td><td>0.884</td></tr></table>"
      ],
      "text/plain": [
       "<ddlite.ddlite.ModelLogger instance at 0x10137fdd0>"
      ]
     },
     "execution_count": 54,
     "metadata": {},
     "output_type": "execute_result"
    }
   ],
   "source": [
    "model.show_log()"
   ]
  },
  {
   "cell_type": "code",
   "execution_count": 55,
   "metadata": {
    "collapsed": false
   },
   "outputs": [
    {
     "data": {
      "image/png": "[encoded data removed]",
      "text/plain": [
       "<matplotlib.figure.Figure at 0x150a0b0d0>"
      ]
     },
     "metadata": {},
     "output_type": "display_data"
    }
   ],
   "source": [
    "model.plot_calibration()"
   ]
  },
  {
   "cell_type": "code",
   "execution_count": null,
   "metadata": {
    "collapsed": true
   },
   "outputs": [],
   "source": []
  }
 ],
 "metadata": {
  "kernelspec": {
   "display_name": "Python 2",
   "language": "python",
   "name": "python2"
  },
  "language_info": {
   "codemirror_mode": {
    "name": "ipython",
    "version": 2
   },
   "file_extension": ".py",
   "mimetype": "text/x-python",
   "name": "python",
   "nbconvert_exporter": "python",
   "pygments_lexer": "ipython2",
   "version": "2.7.10"
  }
 },
 "nbformat": 4,
 "nbformat_minor": 0
}
