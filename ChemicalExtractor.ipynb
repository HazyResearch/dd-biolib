{
 "cells": [
  {
   "cell_type": "markdown",
   "metadata": {},
   "source": [
    "# Part 1: Extracting Chemical Named Entities\n",
    "\n",
    "## 1. Obtaining Data\n",
    "\n",
    "**ChemDNER Corpus v1.0**\n",
    "\n",
    "The ChemDNER corpus consists of 10,000 PubMED abstracts and their corresponding label sets of named chemical entities. This data set is [publicly available](http://www.biocreative.org/resources/biocreative-iv/chemdner-corpus/) and can be downloaded directly using the shell script \n",
    "\n",
    "    load_data.sh\n",
    "\n",
    "## 2. Extracting Candidate Mentions\n",
    "For the extraction step, our goal is to get the highest recall as possible. In cases where we have labeled data, it's easy to get a recall estimate for our extraction pipline."
   ]
  },
  {
   "cell_type": "code",
   "execution_count": 2,
   "metadata": {
    "collapsed": false
   },
   "outputs": [],
   "source": [
    "import umls\n",
    "import operator\n",
    "from lexicons.matchers import * \n",
    "from utils import unescape_penn_treebank\n",
    "from ddlite import *\n",
    "from datasets import *"
   ]
  },
  {
   "cell_type": "code",
   "execution_count": 3,
   "metadata": {
    "collapsed": false
   },
   "outputs": [
    {
     "name": "stdout",
     "output_type": "stream",
     "text": [
      "100 PubMed abstracts\n",
      "894 true chemical entity mentions\n",
      "24147 tokens\n"
     ]
    }
   ],
   "source": [
    "# parse our corpus, saving CoreNLP results at cache_path\n",
    "parser = SentenceParser()\n",
    "corpus = ChemdnerCorpus('datasets/chemdner_corpus/', parser=parser, cache_path=\"/users/fries/desktop/cache/\")\n",
    "\n",
    "# load the first 100 training documents and collapse all sentences into a single list\n",
    "pmids = [pmid for pmid in corpus.cv[\"training\"].keys()[:100]]\n",
    "documents = {pmid:corpus[pmid][\"sentences\"] for pmid in pmids}\n",
    "sentences = reduce(lambda x,y:x+y, documents.values())\n",
    "\n",
    "# load gold annotation tags\n",
    "annotations = [corpus.annotations[pmid] for pmid in pmids if pmid in corpus.annotations]\n",
    "annotations = reduce(lambda x,y:x+y, annotations)\n",
    "annotations = [a.text for a in annotations]\n",
    "\n",
    "print(\"%d PubMed abstracts\" % len(documents))\n",
    "print(\"%d true chemical entity mentions\" % len(annotations))\n",
    "word_n = sum([len(sent.words) for sent in sentences])\n",
    "print(\"%d tokens\" % word_n)"
   ]
  },
  {
   "cell_type": "markdown",
   "metadata": {},
   "source": [
    "### Using Matchers\n",
    "\n",
    "The easiest way to identify candidates is through simple string matching using a dictionary of known entity names. Curating good lexicons can take some time, so we use pre-existing dictionaries provided by the *tmChem* tagger and a UMLS dictionary of all *Substance* semantic types (see the UMLS notebook for instructions how to create arbitrary dictionaries)."
   ]
  },
  {
   "cell_type": "code",
   "execution_count": 7,
   "metadata": {
    "collapsed": false
   },
   "outputs": [
    {
     "name": "stdout",
     "output_type": "stream",
     "text": [
      "Found 5077 candidate entities\n",
      "Candidates: 21.03% of all tokens\n",
      "Annotations 3.70% of all tokens\n",
      "~recall: 0.62 (555/894)\n"
     ]
    }
   ],
   "source": [
    "regex_fnames = [\"datasets/regex/chemdner/patterns.txt\"]\n",
    "\n",
    "# dictionaries from tmChem & the UMLS\n",
    "dict_fnames = [\"datasets/dictionaries/chemdner/mention_chemical.txt\",\n",
    "              \"datasets/dictionaries/chemdner/chebi.txt\",\n",
    "              \"datasets/dictionaries/chemdner/addition.txt\",\n",
    "              \"datasets/dictionaries/umls/substance-sab-all.txt\"]\n",
    "\n",
    "chemicals = []\n",
    "for fname in dict_fnames:\n",
    "    chemicals += [line.strip().split(\"\\t\")[0] for line in open(fname,\"rU\").readlines()]\n",
    "    \n",
    "regexes = []\n",
    "for fname in regex_fnames:\n",
    "    regexes += [line.strip() for line in open(fname,\"rU\").readlines()]   \n",
    "\n",
    "# create matchers and extract candidates\n",
    "extr1 = DictionaryMatch('C', chemicals, ignore_case=True)\n",
    "#extr2 = AllUpperNounsMatcher('C')\n",
    "#extr3 = RegexMatch('C', regexes[0], ignore_case=True)\n",
    "#extr4 = RegexMatch('C', regexes[1], ignore_case=False)\n",
    "#extr5 = RegexMatch('C', regexes[2], ignore_case=False)\n",
    "matcher = MultiMatcher(extr1)#, extr3, extr4, extr5)\n",
    "\n",
    "candidates = Entities(sentences, matcher)\n",
    "\n",
    "# Crude recall estimate (ignores actual span match and tokenization problems)\n",
    "mentions = [\" \".join(unescape_penn_treebank([e.words[i] for i in e.idxs])) for e in candidates]\n",
    "gold_mentions = [term for term in annotations]\n",
    "\n",
    "for m in mentions:\n",
    "    if m in gold_mentions:\n",
    "        gold_mentions.remove(m)\n",
    "tp = len(annotations) - len(gold_mentions)\n",
    "\n",
    "print(\"Found %d candidate entities\" % len(candidates))\n",
    "print(\"Candidates: %.2f%% of all tokens\" % (len(candidates)/float(word_n) * 100) )\n",
    "print(\"Annotations %.2f%% of all tokens\" % (len(annotations)/float(word_n) * 100) )\n",
    "\n",
    "print(\"~recall: %.2f (%d/%d)\" % (float(tp) / len(annotations), tp, len(annotations)))"
   ]
  },
  {
   "cell_type": "markdown",
   "metadata": {},
   "source": [
    "### Error Analysis\n",
    "For distant supervision, we want our candidate set to have high recall. We currently fall short for chemical named entities. If we look at the gold standard annotations, we can see why our string matching misses some entities. Note how paranthesis and other tokenization issues result in many missed entities. "
   ]
  },
  {
   "cell_type": "code",
   "execution_count": 8,
   "metadata": {
    "collapsed": false
   },
   "outputs": [
    {
     "name": "stdout",
     "output_type": "stream",
     "text": [
      "BPA: 16\n",
      "ZnS: 11\n",
      "Res: 9\n",
      "cannabisin B: 7\n",
      "ABG: 7\n",
      "DINCH: 7\n",
      "(13)C: 6\n",
      "DC-Ch: 6\n",
      "DOTAP: 5\n",
      "AcOEt: 5\n",
      "MINCH: 5\n",
      "DCA-Tam: 4\n",
      "hydroxy: 4\n",
      "organochlorine: 4\n",
      "LA-Tam: 4\n",
      "Li(3)PS(4): 3\n",
      "CA-Tam: 3\n",
      "TamNHMe: 3\n",
      "H(2)S: 3\n",
      "OLL: 3\n",
      "N2: 3\n",
      "HEX: 3\n",
      "dC5'p: 2\n",
      "CdSe: 2\n",
      "aflatoxin B(1): 2\n",
      "dA5'p: 2\n",
      "T5'p: 2\n",
      "(1)H: 2\n",
      "l-amino acid: 2\n",
      "Lys: 2\n",
      "5-Aza-dC: 2\n",
      "monoester: 2\n",
      "CHDA: 2\n",
      "HPβCD: 2\n",
      "dimeric phloroglucinols: 2\n",
      "3β-{N-[(N',N'-dimethylamino)ethyl]carbamoyl}cholesterol: 2\n",
      "DMBPA: 2\n",
      "dG5'p: 2\n",
      "BPF: 2\n",
      "diisononyl-cyclohexane-1,2-dicarboxylate: 2\n",
      "BPZ: 2\n",
      "Cannabisin B: 2\n",
      "Rha: 2\n",
      "CdS: 2\n",
      "OOL: 2\n",
      "tetralone: 2\n",
      "NAD: 1\n",
      "dicarbonyls: 1\n",
      "Z-Ligustilide: 1\n",
      "gallates: 1\n",
      "6,8-dihydroxy-3-methyl-3,4-dihydroisocoumarin: 1\n",
      "2'-deoxyadenosine-5'-monophosphate: 1\n",
      "SP-600125: 1\n",
      "4-methyl: 1\n",
      "E-H: 1\n",
      "Iron aminoimides: 1\n",
      "1-oleoyl-2-linoleoyl-3-linolenoyl: 1\n",
      "γ-Aminobutyric acid: 1\n",
      "2'-deoxycytidine-5'-monophosphate: 1\n",
      "6-carboxy: 1\n",
      "dioleoyl linoleoyl: 1\n",
      "H-H: 1\n",
      "C2H3OH: 1\n",
      "(31)P: 1\n",
      "2,7,12-tris(α-pyridinio-p-tolyl)-17-(p-(methoxymethyl)phenyl) porphycene: 1\n",
      "haem: 1\n",
      "Axistatins 1-3: 1\n",
      "OH: 1\n",
      "(2)H: 1\n",
      "2634-33-5: 1\n",
      "oxo: 1\n",
      "wurtzite: 1\n",
      "thymidine-5'-monophosphate: 1\n",
      "1,2,3-trioleyl: 1\n",
      "(22R)-hydroxylanosta-7,9(11),24-trien-3-one: 1\n",
      "3-amido-5-cyclopropylpyrrolopyrazines: 1\n",
      "Si-H: 1\n",
      "hydroxypyruvate: 1\n",
      "indole: 1\n",
      "cholic acid: 1\n",
      "H(2)O: 1\n",
      "mallotojaponins B (1) and C (2): 1\n",
      "GlcA: 1\n",
      "Fe-diphosphineborane: 1\n",
      "Fe-BPh: 1\n",
      "3-MA: 1\n",
      "carbonyl di-imidazole: 1\n",
      "hydroxypropyl-β-cyclodextrin: 1\n",
      "diphenylmethanes: 1\n",
      "4-(2-{2-[(2R)-2-methylpyrrolidinyl]ethyl}-benzofuran-5-yl)benzonitrile: 1\n",
      "arylsulfanylpyrazolone: 1\n",
      "mallotophenone: 1\n",
      "C=O: 1\n",
      "indolyl-pyrrolone: 1\n",
      "PhSiH3: 1\n",
      "di-iso-nonylphthalate: 1\n",
      "Organochlorine: 1\n",
      "mono-isononyl-cyclohexane-1,2-dicarboxylate: 1\n",
      "carboxy: 1\n",
      "H2: 1\n",
      "coniothyrinones A (5), B (6), and D: 1\n",
      "arylazanylpyrazolone: 1\n",
      "axistatins 1-3: 1\n",
      "4,4-N,N-dicarbazole-biphenyl: 1\n",
      "lithocholic acid: 1\n",
      "tartaric and malic acids: 1\n",
      "OLLn: 1\n",
      "1,2-dioleyl-3-palmitoyl: 1\n",
      "cyclic pentapeptides: 1\n",
      "deoxycholic acid: 1\n",
      "para-hydroxy: 1\n",
      "4,4',4''-tris(carbazol-9-yl)-triphenylamine: 1\n",
      "axistatins 1 (1), 2 (2), and 3 (3): 1\n",
      "3-Amido pyrrolopyrazine: 1\n",
      "arylazanylpyrazolones: 1\n",
      "coniothyrinone C: 1\n",
      "Arylazanylpyrazolone: 1\n",
      "2'-deoxyguanosine-5'-monophosphate: 1\n",
      "(14)C: 1\n",
      "secoiridoid aglycones: 1\n",
      "5-aza-2'-deoxycytidine: 1\n",
      "1,2-dilinoleoyl-3-oleyl: 1\n",
      "aryloxanylpyrazolone: 1\n",
      "N-([1R,2R,4S]-bicyclo[2.2.1]hept-2-yl)-2-methyl-5-(4-[trifluoromethyl]phenyl)-4-pyrimidinamine: 1\n",
      "chloroquine: 1\n",
      "Fe≡NNR2: 1\n",
      "Lithium: 1\n",
      "dicarbonyl: 1\n",
      "2'-deoxymononucleotides: 1\n",
      "Araf: 1\n",
      "5'-adenosine monophosphate: 1\n",
      "PO(2)(-): 1\n",
      "monoesters: 1\n",
      "cyclohexane-1,2-dicarboxylic acid: 1\n",
      "UVI2008: 1\n",
      "coniothyrinones A-D: 1\n",
      "Coniothyrinones A (5), B (6), and D: 1\n",
      "Hydroxy: 1\n",
      "1,2-dioleoyl-3-timethylammonium propane: 1\n",
      "UDP: 1\n",
      "17β-estradiol: 1\n",
      "dodecylbenzenesulphonic acid: 1\n",
      "Z-ligustilide: 1\n",
      "N-desmethylated tamoxifen: 1\n",
      "1,2-dioleoyl-sn-glycerol-3-phosphocholine: 1\n",
      "2-aminothiazoles: 1\n"
     ]
    }
   ],
   "source": [
    "mentions = {term:1 for term in mentions}\n",
    "missed = [term for term in annotations if term not in mentions]\n",
    "missed = {term:missed.count(term) for term in missed}\n",
    "\n",
    "for term in sorted(missed.items(),key=operator.itemgetter(1),reverse=1):\n",
    "    print(\"%s: %d\" % (term[0], missed[term[0]]))"
   ]
  },
  {
   "cell_type": "code",
   "execution_count": 6,
   "metadata": {
    "collapsed": false
   },
   "outputs": [],
   "source": [
    "# dump candidates to a pickle\n",
    "candidates.dump_candidates(\"/tmp/chemdner_candidate_mentions.pkl\")"
   ]
  },
  {
   "cell_type": "markdown",
   "metadata": {},
   "source": [
    "### Example Best-in-class Tagger\n",
    "\n",
    "The winning system in the 2013 BioCreative IV CHEMDNER task was tmChem which used 2 linear chain conditional random fields (CRF) with different tokenziation approaches and feature sets.\n",
    "\n",
    "| Model       | Precision | Recall | F1     |\n",
    "|-------------|-----------|--------|--------|\n",
    "| Model 1     | 0.8595    | 0.8721 | 0.8657 |\n",
    "| Model 2     | **0.8909**    | 0.8575 | **0.8739** |\n",
    "| Heuristic Combination     | 0.8516    | 0.8906 | 0.8706 |\n",
    "| Highest Recall | 0.7672    | **0.9212** | 0.8372 |\n",
    "\n",
    "Leaman, Robert, Chih-Hsuan Wei, and Zhiyong Lu. [\"tmChem: a high performance approach for chemical named entity recognition and normalization.\"](http://www.ncbi.nlm.nih.gov/pmc/articles/PMC4331693/) J. Cheminformatics 7.S-1 (2015): S3."
   ]
  }
 ],
 "metadata": {
  "kernelspec": {
   "display_name": "Python 2",
   "language": "python",
   "name": "python2"
  },
  "language_info": {
   "codemirror_mode": {
    "name": "ipython",
    "version": 2
   },
   "file_extension": ".py",
   "mimetype": "text/x-python",
   "name": "python",
   "nbconvert_exporter": "python",
   "pygments_lexer": "ipython2",
   "version": "2.7.10"
  }
 },
 "nbformat": 4,
 "nbformat_minor": 0
}
