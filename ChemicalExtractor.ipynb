{
 "cells": [
  {
   "cell_type": "markdown",
   "metadata": {},
   "source": [
    "# Part 1: Extracting Chemical Named Entities\n",
    "\n",
    "## 1. Obtaining Data\n",
    "\n",
    "**ChemDNER Corpus v1.0**\n",
    "\n",
    "The ChemDNER corpus consists of 10,000 PubMED abstracts and their corresponding label sets of named chemical entities. This data set is [publicly available](http://www.biocreative.org/resources/biocreative-iv/chemdner-corpus/) and can be downloaded directly using the shell script \n",
    "\n",
    "    load_data.sh\n",
    "\n",
    "## 2. Loading Documents\n",
    "For the extraction step, our goal is to get the highest recall as possible. In cases where we have labeled data, it's easy to get a recall estimate for our extraction pipline."
   ]
  },
  {
   "cell_type": "code",
   "execution_count": 17,
   "metadata": {
    "collapsed": false
   },
   "outputs": [
    {
     "name": "stdout",
     "output_type": "stream",
     "text": [
      "The autoreload extension is already loaded. To reload it, use:\n",
      "  %reload_ext autoreload\n"
     ]
    }
   ],
   "source": [
    "%load_ext autoreload\n",
    "%autoreload 2\n",
    "\n",
    "import sys\n",
    "import codecs\n",
    "import operator\n",
    "import itertools\n",
    "from ddlite import *\n",
    "from datasets import *\n",
    "from utils import unescape_penn_treebank\n",
    "from lexicons import AllUpperNounsMatcher, RuleTokenizedDictionaryMatch"
   ]
  },
  {
   "cell_type": "code",
   "execution_count": 25,
   "metadata": {
    "collapsed": false
   },
   "outputs": [
    {
     "name": "stdout",
     "output_type": "stream",
     "text": [
      "100 PubMed abstracts\n",
      "743 ChemNDER gold entities\n",
      "21529 tokens\n"
     ]
    }
   ],
   "source": [
    "parser = SentenceParser()\n",
    "corpus = ChemdnerCorpus('datasets/chemdner_corpus/', parser=parser, \n",
    "                        cache_path=\"examples/cache/chemdner/\")\n",
    "\n",
    "# ChemNDER has pre-defined cross-validation folds -- use 25 docs\n",
    "dev_set = sorted(corpus.cv[\"training\"].keys())[:100]\n",
    "\n",
    "# load training documents and collapse all sentences into a single list\n",
    "documents = {doc_id:(corpus[doc_id][\"sentences\"],corpus[doc_id][\"tags\"]) for doc_id in dev_set}\n",
    "sentences, gold_entities = zip(*documents.values())\n",
    "sentences = list(itertools.chain.from_iterable(sentences))\n",
    "gold_entities = list(itertools.chain.from_iterable(gold_entities))\n",
    "\n",
    "# summary statistics\n",
    "gold_entity_n = len(list(itertools.chain.from_iterable(gold_entities)))\n",
    "word_n = sum([len(sent.words) for sent in sentences])\n",
    "print(\"%d PubMed abstracts\" % len(documents))\n",
    "print(\"%d ChemNDER gold entities\" % gold_entity_n)\n",
    "print(\"%d tokens\" % word_n)"
   ]
  },
  {
   "cell_type": "markdown",
   "metadata": {},
   "source": [
    "## 3. Building Matchers\n",
    "\n",
    "The easiest way to identify candidates is through simple string matching using a dictionary of known entity names. Curating good lexicons can take some time, so we use pre-existing dictionaries provided by the *tmChem* tagger and a UMLS dictionary of all *Substance* semantic types (see the UMLS notebook for instructions how to create arbitrary dictionaries). The goal of matching is to acheive as high recall as possible. In real-world applications, we can't compute true recall, so it's important to try and get good coverage. \n",
    "\n",
    "- **DictionaryMatch** Match to an existing dictionary of known entity names.\n",
    "\n",
    "- **RegexMatcher** Match words according to simple regular expressions. Here we just match Greek letters and  simple patterns of the form -3,4- which tend to indicate chemical names.\n",
    "\n",
    "- **RuleTokenizedDictionaryMatch** Match a dictionary under a different tokenization scheme (in this case we provide a whitespace tokenizer. The resulting labels are mapped back into our primary CoreNLP token offset space.\n",
    "\n",
    "- **AllUpperNounsMatcher** (From the Gene Tagger example) Identify all uppercase nouns in text. "
   ]
  },
  {
   "cell_type": "code",
   "execution_count": 26,
   "metadata": {
    "collapsed": false
   },
   "outputs": [],
   "source": [
    "# tokenizer for matching within raw sentence text\n",
    "def rule_tokenizer(s):\n",
    "    s = re.sub(\"([,?!:;] )\",r\" \\1\",s)\n",
    "    s = re.sub(\"([.]$)\",r\" .\",s)\n",
    "    return s.split()\n",
    "\n",
    "# load dictionaries \n",
    "dict_fnames = [\"datasets/dictionaries/chemdner/mention_chemical.txt\",\n",
    "               \"datasets/dictionaries/chemdner/chebi.txt\",\n",
    "               \"datasets/dictionaries/chemdner/addition.txt\",\n",
    "               \"datasets/dictionaries/umls/substance-sab-all.txt\"]\n",
    "\n",
    "chemicals = []\n",
    "for fname in dict_fnames:\n",
    "    chemicals += [line.strip().split(\"\\t\")[0] for line in codecs.open(fname,\"rU\",\"utf-8\").readlines()]\n",
    "\n",
    "# remove stopwords\n",
    "fname = \"datasets/dictionaries/chemdner/stopwords.txt\"\n",
    "stopwords = {line.strip().split(\"\\t\")[0]:1 for line in open(fname,\"rU\").readlines()}\n",
    "chemicals = {term:1 for term in chemicals if term not in stopwords}.keys()\n",
    "\n",
    "# create matchers and extract candidates\n",
    "extr1 = DictionaryMatch('C', chemicals, ignore_case=True)\n",
    "extr2 = RuleTokenizedDictionaryMatch('C', chemicals, ignore_case=True, tokenizer=rule_tokenizer)\n",
    "extr3 = RegexMatch('C',\"[αβΓγΔδεϝζηΘθικΛλμνΞξοΠπρΣστυΦφχΨψΩω]+[-]+[A-Za-z]+\", ignore_case=True)\n",
    "extr4 = RegexMatch('C', \"([-]*(\\d[,]*)+[-])\", ignore_case=True)\n",
    "extr5 = RegexMatch('C',\"[αβΔδη]+\", ignore_case=True)\n",
    "extr6 = AllUpperNounsMatcher('C')"
   ]
  },
  {
   "cell_type": "code",
   "execution_count": 27,
   "metadata": {
    "collapsed": true
   },
   "outputs": [],
   "source": [
    "matcher = MultiMatcher(extr1, extr2, extr3, extr4, extr5, extr6)"
   ]
  },
  {
   "cell_type": "markdown",
   "metadata": {},
   "source": [
    "## 4. Extracting Candidate Entities\n",
    "Once we have matchers, we want to generate and store our candidate entity set for later use in learning. (Note this can take a long time, which is why you should precompute candidates before moving to the learning stage.)"
   ]
  },
  {
   "cell_type": "code",
   "execution_count": 28,
   "metadata": {
    "collapsed": false
   },
   "outputs": [
    {
     "name": "stdout",
     "output_type": "stream",
     "text": [
      "Found 2971 candidate entities\n",
      "Candidates: 13.80% of all tokens\n",
      "Annotations 3.45% of all tokens\n",
      "~recall: 0.72 (535/743)\n"
     ]
    }
   ],
   "source": [
    "candidates = Entities(sentences, matcher)\n",
    "\n",
    "# Crude recall estimate (ignores actual span match)\n",
    "mentions = [\" \".join(unescape_penn_treebank([e.words[i] for i in e.idxs])) for e in candidates]\n",
    "gold_mentions = list(zip(*itertools.chain.from_iterable(gold_entities))[0])\n",
    "\n",
    "for m in mentions:\n",
    "    if m in gold_mentions:\n",
    "        gold_mentions.remove(m)\n",
    "tp = gold_entity_n - len(gold_mentions)\n",
    "\n",
    "print(\"Found %d candidate entities\" % len(candidates))\n",
    "print(\"Candidates: %.2f%% of all tokens\" % (len(candidates)/float(word_n) * 100))\n",
    "print(\"Annotations %.2f%% of all tokens\" % (gold_entity_n/float(word_n) * 100))\n",
    "print(\"~recall: %.2f (%d/%d)\" % (float(tp) / gold_entity_n, tp, gold_entity_n))\n",
    "\n",
    "candidates.dump_candidates(\"examples/cache/chem-candidates.pkl\")"
   ]
  },
  {
   "cell_type": "code",
   "execution_count": 32,
   "metadata": {
    "collapsed": false
   },
   "outputs": [
    {
     "data": {
      "text/html": [
       "<style>\n",
       ".node {\n",
       "  cursor: pointer;\n",
       "}\n",
       "\n",
       ".node circle {\n",
       "  fill: #fff;\n",
       "  stroke: steelblue;\n",
       "  stroke-width: 3px;\n",
       "}\n",
       "\n",
       ".node text {\n",
       "  font: 12px sans-serif;\n",
       "}\n",
       "\n",
       ".edge {\n",
       "  fill: none;\n",
       "  stroke: #ccc;\n",
       "  stroke-width: 2px;\n",
       "  cursor: pointer;\n",
       "}\n",
       "\n",
       ".highlight {\n",
       "  stroke: red;\n",
       "  stroke-width: 3px;\n",
       "}\n",
       "</style>\n",
       "\n",
       "<!--Provide the canvas id (twice) and the words via python string formatting here--!>\n",
       "<div id=\"tree-chart-2603512653961527815\"></div>\n",
       "<div id=\"raw-seq-2603512653961527815\">\n",
       "<span class=\"word-2603512653961527815-0\">Acute</span> <span class=\"word-2603512653961527815-1\">effects</span> <span class=\"word-2603512653961527815-2\">of</span> <span class=\"word-2603512653961527815-3\">methiocarb</span> <span class=\"word-2603512653961527815-4\">on</span> <span class=\"word-2603512653961527815-5\">oxidative</span> <span class=\"word-2603512653961527815-6\">damage</span> <span class=\"word-2603512653961527815-7\">and</span> <span class=\"word-2603512653961527815-8\">the</span> <span class=\"word-2603512653961527815-9\">protective</span> <span class=\"word-2603512653961527815-10\">effects</span> <span class=\"word-2603512653961527815-11\">of</span> <span class=\"word-2603512653961527815-12\">vitamin</span> <span class=\"word-2603512653961527815-13\">E</span> <span class=\"word-2603512653961527815-14\">and</span> <span class=\"word-2603512653961527815-15\">taurine</span> <span class=\"word-2603512653961527815-16\">in</span> <span class=\"word-2603512653961527815-17\">the</span> <span class=\"word-2603512653961527815-18\">liver</span> <span class=\"word-2603512653961527815-19\">and</span> <span class=\"word-2603512653961527815-20\">kidney</span> <span class=\"word-2603512653961527815-21\">of</span> <span class=\"word-2603512653961527815-22\">Wistar</span> <span class=\"word-2603512653961527815-23\">rats</span> <span class=\"word-2603512653961527815-24\">.</span>\n",
       "</div>\n"
      ]
     },
     "metadata": {},
     "output_type": "display_data"
    },
    {
     "data": {
      "application/javascript": [
       "$.getScript(\"http://d3js.org/d3.v3.min.js\", function () {\n",
       "// See http://bl.ocks.org/d3noob/8375092\n",
       "// Three vars need to be provided via python string formatting:\n",
       "var chartId = \"2603512653961527815\";\n",
       "var root = {\"attrib\": {\"token_idx\": \"6\", \"word\": \"effects\", \"dep_label\": \"ROOT\", \"pos\": \"NNS\", \"lemma\": \"effect\", \"word_idx\": \"1\", \"dep_parent\": \"0\"}, \"children\": [{\"attrib\": {\"token_idx\": \"0\", \"word\": \"Acute\", \"dep_label\": \"amod\", \"pos\": \"JJ\", \"lemma\": \"acute\", \"word_idx\": \"0\", \"dep_parent\": \"2\"}, \"children\": []}, {\"attrib\": {\"token_idx\": \"17\", \"word\": \"methiocarb\", \"dep_label\": \"nmod\", \"pos\": \"NN\", \"lemma\": \"methiocarb\", \"word_idx\": \"3\", \"dep_parent\": \"2\"}, \"children\": [{\"attrib\": {\"token_idx\": \"14\", \"word\": \"of\", \"dep_label\": \"case\", \"pos\": \"IN\", \"lemma\": \"of\", \"word_idx\": \"2\", \"dep_parent\": \"4\"}, \"children\": []}]}, {\"attrib\": {\"token_idx\": \"41\", \"word\": \"damage\", \"dep_label\": \"nmod\", \"pos\": \"NN\", \"lemma\": \"damage\", \"word_idx\": \"6\", \"dep_parent\": \"2\"}, \"children\": [{\"attrib\": {\"token_idx\": \"28\", \"word\": \"on\", \"dep_label\": \"case\", \"pos\": \"IN\", \"lemma\": \"on\", \"word_idx\": \"4\", \"dep_parent\": \"7\"}, \"children\": []}, {\"attrib\": {\"token_idx\": \"31\", \"word\": \"oxidative\", \"dep_label\": \"amod\", \"pos\": \"JJ\", \"lemma\": \"oxidative\", \"word_idx\": \"5\", \"dep_parent\": \"7\"}, \"children\": []}, {\"attrib\": {\"token_idx\": \"48\", \"word\": \"and\", \"dep_label\": \"cc\", \"pos\": \"CC\", \"lemma\": \"and\", \"word_idx\": \"7\", \"dep_parent\": \"7\"}, \"children\": []}, {\"attrib\": {\"token_idx\": \"67\", \"word\": \"effects\", \"dep_label\": \"conj\", \"pos\": \"NNS\", \"lemma\": \"effect\", \"word_idx\": \"10\", \"dep_parent\": \"7\"}, \"children\": [{\"attrib\": {\"token_idx\": \"52\", \"word\": \"the\", \"dep_label\": \"det\", \"pos\": \"DT\", \"lemma\": \"the\", \"word_idx\": \"8\", \"dep_parent\": \"11\"}, \"children\": []}, {\"attrib\": {\"token_idx\": \"56\", \"word\": \"protective\", \"dep_label\": \"amod\", \"pos\": \"JJ\", \"lemma\": \"protective\", \"word_idx\": \"9\", \"dep_parent\": \"11\"}, \"children\": []}, {\"attrib\": {\"token_idx\": \"86\", \"word\": \"E\", \"dep_label\": \"nmod\", \"pos\": \"NN\", \"lemma\": \"e\", \"word_idx\": \"13\", \"dep_parent\": \"11\"}, \"children\": [{\"attrib\": {\"token_idx\": \"75\", \"word\": \"of\", \"dep_label\": \"case\", \"pos\": \"IN\", \"lemma\": \"of\", \"word_idx\": \"11\", \"dep_parent\": \"14\"}, \"children\": []}, {\"attrib\": {\"token_idx\": \"78\", \"word\": \"vitamin\", \"dep_label\": \"compound\", \"pos\": \"NN\", \"lemma\": \"vitamin\", \"word_idx\": \"12\", \"dep_parent\": \"14\"}, \"children\": []}, {\"attrib\": {\"token_idx\": \"88\", \"word\": \"and\", \"dep_label\": \"cc\", \"pos\": \"CC\", \"lemma\": \"and\", \"word_idx\": \"14\", \"dep_parent\": \"14\"}, \"children\": []}, {\"attrib\": {\"token_idx\": \"92\", \"word\": \"taurine\", \"dep_label\": \"conj\", \"pos\": \"NN\", \"lemma\": \"taurine\", \"word_idx\": \"15\", \"dep_parent\": \"14\"}, \"children\": []}]}, {\"attrib\": {\"token_idx\": \"107\", \"word\": \"liver\", \"dep_label\": \"nmod\", \"pos\": \"NN\", \"lemma\": \"liver\", \"word_idx\": \"18\", \"dep_parent\": \"11\"}, \"children\": [{\"attrib\": {\"token_idx\": \"100\", \"word\": \"in\", \"dep_label\": \"case\", \"pos\": \"IN\", \"lemma\": \"in\", \"word_idx\": \"16\", \"dep_parent\": \"19\"}, \"children\": []}, {\"attrib\": {\"token_idx\": \"103\", \"word\": \"the\", \"dep_label\": \"det\", \"pos\": \"DT\", \"lemma\": \"the\", \"word_idx\": \"17\", \"dep_parent\": \"19\"}, \"children\": []}, {\"attrib\": {\"token_idx\": \"113\", \"word\": \"and\", \"dep_label\": \"cc\", \"pos\": \"CC\", \"lemma\": \"and\", \"word_idx\": \"19\", \"dep_parent\": \"19\"}, \"children\": []}, {\"attrib\": {\"token_idx\": \"117\", \"word\": \"kidney\", \"dep_label\": \"conj\", \"pos\": \"NN\", \"lemma\": \"kidney\", \"word_idx\": \"20\", \"dep_parent\": \"19\"}, \"children\": []}, {\"attrib\": {\"token_idx\": \"134\", \"word\": \"rats\", \"dep_label\": \"nmod\", \"pos\": \"NNS\", \"lemma\": \"rat\", \"word_idx\": \"23\", \"dep_parent\": \"19\"}, \"children\": [{\"attrib\": {\"token_idx\": \"124\", \"word\": \"of\", \"dep_label\": \"case\", \"pos\": \"IN\", \"lemma\": \"of\", \"word_idx\": \"21\", \"dep_parent\": \"24\"}, \"children\": []}, {\"attrib\": {\"token_idx\": \"127\", \"word\": \"Wistar\", \"dep_label\": \"compound\", \"pos\": \"NNP\", \"lemma\": \"Wistar\", \"word_idx\": \"22\", \"dep_parent\": \"24\"}, \"children\": []}]}]}]}]}, {\"attrib\": {\"token_idx\": \"138\", \"word\": \".\", \"dep_label\": \"punct\", \"pos\": \".\", \"lemma\": \".\", \"word_idx\": \"24\", \"dep_parent\": \"2\"}, \"children\": []}]};\n",
       "var highlightIdxs = [[3]];\n",
       "\n",
       "// Highlight words / nodes\n",
       "var COLORS = [\"#ff5c33\", \"#ffcc00\", \"#33cc33\", \"#3399ff\"];\n",
       "function highlightWords() {\n",
       "  for (var i=0; i < highlightIdxs.length; i++) {\n",
       "    var c = COLORS[i];\n",
       "    var idxs = highlightIdxs[i];\n",
       "    for (var j=0; j < idxs.length; j++) {\n",
       "      d3.selectAll(\".word-\"+chartId+\"-\"+idxs[j]).style(\"stroke\", c).style(\"background\", c);\n",
       "    }\n",
       "  }\n",
       "}\n",
       "\n",
       "// Constants\n",
       "var margin = {top: 20, right: 20, bottom: 20, left: 20},\n",
       "width = 800 - margin.left - margin.right,\n",
       "height = 350 - margin.top - margin.bottom,\n",
       "R = 5;\n",
       "\n",
       "// Create the d3 tree object\n",
       "var tree = d3.layout.tree()\n",
       "  .size([width, height]);\n",
       "\n",
       "// Create the svg canvas\n",
       "var svg = d3.select(\"#tree-chart-\" + chartId)\n",
       "  .append(\"svg\")\n",
       "  .attr(\"width\", width + margin.left + margin.right)\n",
       "  .attr(\"height\", height + margin.top + margin.bottom)\n",
       "  .append(\"g\")\n",
       "  .attr(\"transform\", \"translate(\" + margin.left + \",\" + margin.top + \")\");\n",
       "\n",
       "function renderTree() {\n",
       "  var nodes = tree.nodes(root),\n",
       "  edges = tree.links(nodes);\n",
       "\n",
       "  // Place the nodes\n",
       "  var nodeGroups = svg.selectAll(\"g.node\")\n",
       "    .data(nodes)\n",
       "    .enter().append(\"g\")\n",
       "    .attr(\"class\", \"node\")\n",
       "    .attr(\"transform\", function(d) { return \"translate(\" + d.x + \",\" + d.y + \")\"; });\n",
       "       \n",
       "  // Append circles\n",
       "  nodeGroups.append(\"circle\")\n",
       "    //.on(\"click\", function() {\n",
       "    //  d3.select(this).classed(\"highlight\", !d3.select(this).classed(\"highlight\")); })\n",
       "    .attr(\"r\", R)\n",
       "    .attr(\"class\", function(d) { return \"word-\"+chartId+\"-\"+d.attrib.word_idx; });\n",
       "     \n",
       "  // Append the actual word\n",
       "  nodeGroups.append(\"text\")\n",
       "    .text(function(d) { return d.attrib.word; })\n",
       "    .attr(\"text-anchor\", function(d) { \n",
       "      return d.children && d.children.length > 0 ? \"start\" : \"middle\"; })\n",
       "    .attr(\"dx\", function(d) { \n",
       "      return d.children && d.children.length > 0 ? R + 3 : 0; })\n",
       "    .attr(\"dy\", function(d) { \n",
       "      return d.children && d.children.length > 0 ? 0 : 3*R + 3; });\n",
       "\n",
       "  // Place the edges\n",
       "  var edgePaths = svg.selectAll(\"path\")\n",
       "    .data(edges)\n",
       "    .enter().append(\"path\")\n",
       "    .attr(\"class\", \"edge\")\n",
       "    .on(\"click\", function() {\n",
       "      d3.select(this).classed(\"highlight\", !d3.select(this).classed(\"highlight\")); })\n",
       "    .attr(\"d\", d3.svg.diagonal());\n",
       "}\n",
       "\n",
       "renderTree();\n",
       "highlightWords();\n",
       "});\n"
      ]
     },
     "metadata": {},
     "output_type": "display_data"
    }
   ],
   "source": [
    "candidates[23].render()"
   ]
  },
  {
   "cell_type": "markdown",
   "metadata": {},
   "source": [
    "### Error Analysis\n",
    "For distant supervision, we want our candidate set to have high recall. We currently fall short for chemical named entities. If we look at the gold standard annotations, we can see why our string matching misses some entities. Note how paranthesis and other tokenization issues result in many missed entities. "
   ]
  },
  {
   "cell_type": "code",
   "execution_count": 33,
   "metadata": {
    "collapsed": false
   },
   "outputs": [
    {
     "name": "stdout",
     "output_type": "stream",
     "text": [
      "Est. Tokenization Errors: 83\n",
      "Est. Out-of-vocabulary Errors: 125\n"
     ]
    }
   ],
   "source": [
    "# What are we missing due to tokenization errors?\n",
    "regexes = [re.compile(\"[αβΓγΔδεϝζηΘθικΛλμνΞξοΠπρΣστυΦφχΨψΩω]+[-]+[A-Za-z]+\")]\n",
    "regexes += [re.compile(\"([-]*(\\d[,]*)+[-])\")]\n",
    "regexes += [re.compile(\"[αβΔδη]+\")]\n",
    "\n",
    "# regular expression matches\n",
    "def regex_match(t):\n",
    "    for regex in regexes:\n",
    "        if regex.search(t):\n",
    "            return True\n",
    "    return False\n",
    "            \n",
    "tokenization_errors = [term for term in gold_mentions if term in chemicals or regex_match(term)]\n",
    "tokenization_errors = {term:tokenization_errors.count(term) for term in tokenization_errors}\n",
    "oov_errors = [term for term in gold_mentions if term not in tokenization_errors]\n",
    "oov_errors = {term:oov_errors.count(term) for term in oov_errors}\n",
    "\n",
    "print(\"Est. Tokenization Errors: %d\" % (sum(tokenization_errors.values())))\n",
    "print(\"Est. Out-of-vocabulary Errors: %d\" % (sum(oov_errors.values())))"
   ]
  },
  {
   "cell_type": "markdown",
   "metadata": {},
   "source": [
    "We see that almost half our errors stem from tokenization issues. If we fixed all of those errors, we would have ~0.87 recall on the development set. If we actually look at OOV mentions we missed, we see there is considerable room for refining regular expressions to identify mentions like NaAsO(2) or FeSe, which just consist of element names. "
   ]
  },
  {
   "cell_type": "code",
   "execution_count": 34,
   "metadata": {
    "collapsed": false
   },
   "outputs": [
    {
     "name": "stdout",
     "output_type": "stream",
     "text": [
      "CO(2): 10\n",
      "PCAHs: 6\n",
      "Thiovit: 4\n",
      "H2 O2: 4\n",
      "withanolide A: 4\n",
      "GABA: 4\n",
      "steroidal saponins: 3\n",
      "furostanol: 3\n",
      "RAP: 3\n",
      "mimulone B: 2\n",
      "Glaucogenin E: 2\n",
      "cAMP: 2\n",
      "vicinal diol: 2\n",
      "Al: 2\n",
      "pyrimidinedione: 2\n",
      "PLA: 2\n",
      "Ser: 2\n",
      "Fe(II): 2\n",
      "C-geranylated flavonoids: 2\n",
      "fluoro-indomethacin: 2\n",
      "thiobarbituric: 1\n",
      "Tween-80: 1\n",
      "ixoroside: 1\n",
      "phosphoinositol(3,4)P2: 1\n",
      "ethoxyresorufine: 1\n",
      "decanoate salt: 1\n",
      "SDS: 1\n",
      "Nepetanudoside B: 1\n",
      "Zn(2+): 1\n",
      "gamma-amino-butyric-acid: 1\n",
      "sodium dodecyl sulphate polyacrylamide: 1\n",
      "tetrabrombisphenol A: 1\n",
      "benzoflouroanthene: 1\n",
      "Tomentomimulol: 1\n",
      "oxygenated monoterpenes: 1\n",
      "betulon aldehyde: 1\n",
      "N-acetylgalactosamine: 1\n",
      "nickel-sulfate: 1\n",
      "arachidonic (C20 : 4ω-6) and eicosapentaenoic (C20 : 5ω-3) acids: 1\n",
      "polyhydroxyl: 1\n",
      "Polymethoxylated flavones: 1\n",
      "methanolic potassium hydroxide: 1\n",
      "poly (ADP-ribose): 1\n",
      "phosphoinositol(3,4,5)P3: 1\n",
      "Trans-cyclo-(D-tryptophanyl-L-tyrosyl): 1\n",
      "vitamin E: 1\n",
      "poly(D,L-lactide): 1\n",
      "acetal triterpenes: 1\n",
      "3,3'-di-O-methylellagic acid: 1\n",
      "tomentomimulol: 1\n",
      "Grignard reagent: 1\n",
      "phosphoinositol(3,5)P2: 1\n",
      "18F: 1\n",
      "dihydrochloride: 1\n",
      "cinnamic-alcohol: 1\n",
      "steroidal glycosides: 1\n",
      "SiO2: 1\n",
      "reinocarnoside A (1), B (2) and C (3): 1\n",
      "paraphenylendiamine: 1\n",
      "PI(3,4,5)P3: 1\n",
      "Mn(2+): 1\n",
      "sodium dodecyl sulphate: 1\n",
      "tocochromanols: 1\n",
      "NaIO4: 1\n",
      "triacetine: 1\n",
      "C(21): 1\n",
      "(1)H: 1\n",
      "boeravinone E and B: 1\n",
      "N-[3(aminomethyl) benzyl]-acetamidine: 1\n",
      "STZ: 1\n",
      "cyclododeca[d]oxazole: 1\n",
      "Cu(2+): 1\n",
      "Ni(2+): 1\n",
      "ammonium-hexachloroplatinate: 1\n",
      "oleanolic aldehyde: 1\n",
      "MPTP: 1\n",
      "betulin aldehyde: 1\n",
      "lactol pentacyclic triterpenes: 1\n",
      "acetoxymethyl ester: 1\n",
      "malondialdehite: 1\n",
      "trans-cyclo-(D-tryptophanyl-L-tyrosyl): 1\n",
      "acylated anthocyanins: 1\n"
     ]
    }
   ],
   "source": [
    "# print out our out of vocabulary terms\n",
    "for term in sorted(oov_errors.items(),key=operator.itemgetter(1),reverse=1):\n",
    "    print(\"%s: %d\" % (term[0], oov_errors[term[0]]))"
   ]
  },
  {
   "cell_type": "markdown",
   "metadata": {},
   "source": [
    "### Example Best-in-class Tagger\n",
    "\n",
    "The winning system in the 2013 BioCreative IV CHEMDNER task was tmChem which used 2 linear chain conditional random fields (CRF) with different tokenziation approaches and feature sets.\n",
    "\n",
    "| Model       | Precision | Recall | F1     |\n",
    "|-------------|-----------|--------|--------|\n",
    "| Model 1     | 0.8595    | 0.8721 | 0.8657 |\n",
    "| Model 2     | **0.8909**    | 0.8575 | **0.8739** |\n",
    "| Heuristic Combination     | 0.8516    | 0.8906 | 0.8706 |\n",
    "| Highest Recall | 0.7672    | **0.9212** | 0.8372 |\n",
    "\n",
    "Leaman, Robert, Chih-Hsuan Wei, and Zhiyong Lu. [\"tmChem: a high performance approach for chemical named entity recognition and normalization.\"](http://www.ncbi.nlm.nih.gov/pmc/articles/PMC4331693/) J. Cheminformatics 7.S-1 (2015): S3."
   ]
  }
 ],
 "metadata": {
  "kernelspec": {
   "display_name": "Python 2",
   "language": "python",
   "name": "python2"
  },
  "language_info": {
   "codemirror_mode": {
    "name": "ipython",
    "version": 2
   },
   "file_extension": ".py",
   "mimetype": "text/x-python",
   "name": "python",
   "nbconvert_exporter": "python",
   "pygments_lexer": "ipython2",
   "version": "2.7.10"
  }
 },
 "nbformat": 4,
 "nbformat_minor": 0
}
